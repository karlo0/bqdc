{
 "cells": [
  {
   "cell_type": "markdown",
   "metadata": {},
   "source": [
    "# Script for synchronizing metadata between BigQuery and Data Catalog\n",
    "\n",
    "1. BigQuery Table and field descriptions as well as Data Catalog table and field tags are synchronized. The syncronization ensures that when field descriptions and/or table descriptions for tables in BigQuery are present, then also field description and table description tags are created in Data Catalog in case they don't exist. In the case that table description and field description tags are present for tables in Data Catalog but not specified in BigQuery, the synchronization will push these table and field descriptions to BigQuery.\n",
    "2. After loading the **bqdc** module, the connection to BigQuery and Data Catalog is established by calling `bqdc.toolbox()`.\n",
    "3. The folder of this script should contain the **'bqdc.py'** file and the **'.json'** File that contains the correct **service account key**.\n",
    "\n",
    "## Initialisation"
   ]
  },
  {
   "cell_type": "code",
   "execution_count": null,
   "metadata": {
    "collapsed": true
   },
   "outputs": [],
   "source": [
    "import bqdc\n",
    "\n",
    "#specify the GCP project by setting the corresponding project ID\n",
    "PROJECT_ID = \n",
    "\n",
    "# establish connection to both BigQuery and Datacatalog clients\n",
    "toolbox = bqdc.toolbox(PROJECT_ID = PROJECT_ID, do_print_log=True)\n",
    "\n",
    "# set the IDs for the table tag and field tag template and establish references to both tag templates\n",
    "table_tag_template_id = \n",
    "field_tag_template_id = \n",
    "\n",
    "toolbox.init_tag_templates(table_tag_template_str = table_tag_template_id, field_tag_template_str = field_tag_template_id)\n",
    "\n",
    "# specify a dataset by setting the corresponding dataset ID\n",
    "dataset_id = \n",
    "\n",
    "toolbox.set_dataset(dataset_id)"
   ]
  },
  {
   "cell_type": "markdown",
   "metadata": {},
   "source": [
    "## Synchronizing metadata with the synchronize method\n",
    "\n",
    "1. If no arguments are passed it assumes that **all** tables of the dataset set before are synchronized between BigQuery and Datacatalog.\n",
    "2. If tables are requested from **another dataset**, set the **`DS_ID`** parameter:\n",
    "    ```python\n",
    "    toolbox.synchronize(DS_ID=dataset_id)\n",
    "    ```\n",
    "    where `dataset_id` is a string variable specifying a dataset ID.\n",
    "\n",
    "3. If a subset of tables hall be uploaded, set the **`tables`** parameter:\n",
    "   ```python\n",
    "   toolbox.synchronize(tables=list_of_tables)\n",
    "   ```\n",
    "    \n",
    "    where `list_of_tables` is a list of strings containing the table ID's of a subset of the tables that are contained in the Excel spreadsheet. If only a single table is requested for upload, `list_of_tables` can be a single string specifying a table ID."
   ]
  },
  {
   "cell_type": "code",
   "execution_count": null,
   "metadata": {
    "collapsed": true
   },
   "outputs": [],
   "source": [
    "toolbox.synchronize()"
   ]
  }
 ],
 "metadata": {
  "kernelspec": {
   "display_name": "Python 3",
   "language": "python",
   "name": "python3"
  },
  "language_info": {
   "codemirror_mode": {
    "name": "ipython",
    "version": 3
   },
   "file_extension": ".py",
   "mimetype": "text/x-python",
   "name": "python",
   "nbconvert_exporter": "python",
   "pygments_lexer": "ipython3",
   "version": "3.6.1"
  }
 },
 "nbformat": 4,
 "nbformat_minor": 2
}
