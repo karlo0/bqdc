{
 "cells": [
  {
   "cell_type": "markdown",
   "metadata": {},
   "source": [
    "# Script for uploading metadata from Excel Spreadsheets to BigQuery and Datacatalog\n",
    "\n",
    "1. BigQuery Table and field descriptions as well as Data Catalog table and field tags are uploaded from an Excel workspace file that has the name of the _parent_ dataset. By default the workspace file is stored in a folder with the name of the _parent_ dataset in the working directory of the module **bqdc**\n",
    "2. After loading the **bqdc** module, the connection to BigQuery and Data Catalog is established by calling `bqdc.toolbox()`.\n",
    "3. The folder of this script should contain the **bqdc.py** file and the **json** File that contains the correct **service account key**.\n",
    "4. The **first sheet** of the workspace file has the name **'metadata_of_tables'** and contains informatation of the entire table such as table description which is retrieved from tags created by the table tag template.\n",
    "5. The **field metadata** of the downloaded tables is stored in **separate sheets** of the workspace file where the name of the sheet is the name of the table.\n",
    "\n",
    "**Note: After uploading metadata from the specified Excel workspace file, the file and its parent folder are automatically deleted on purpose. This is to enforce that before uploading a download takes place with the `download.ipynb` file.**\n",
    "## Initialisation"
   ]
  },
  {
   "cell_type": "code",
   "execution_count": 3,
   "metadata": {},
   "outputs": [],
   "source": [
    "import bqdc\n",
    "\n",
    "#specify the GCP project by setting the corresponding project ID\n",
    "PROJECT_ID = \n",
    "\n",
    "# establish connection to both BigQuery and Datacatalog clients\n",
    "toolbox = bqdc.toolbox(PROJECT_ID = PROJECT_ID, do_print_log=True)\n",
    "\n",
    "# set the id's for the table tag and field tag template and establish references to both tag templates\n",
    "table_tag_template_id = \n",
    "field_tag_template_id = \n",
    "toolbox.init_tag_templates(table_tag_template_str = table_tag_template_id, field_tag_template_str = field_tag_template_id)\n",
    "\n",
    "# specify a dataset by setting the corresponding dataset ID\n",
    "dataset_id = \n",
    "\n",
    "toolbox.set_dataset(dataset_id)"
   ]
  },
  {
   "cell_type": "markdown",
   "metadata": {},
   "source": [
    "## Uploading metadata with the upload method\n",
    "\n",
    "1. If no arguments are passed it assumes that **all** tables of the dataset set before are uploaded.\n",
    "2. If tables are requested from **another dataset**, set the **`DS_ID`** parameter. The Excel workspace must have the Dataset ID of the dataset + '.xlsx' as a name and must be in a folder with the name being the same Dataset ID:\n",
    "    ```python\n",
    "    toolbox.upload(DS_ID=dataset_id)\n",
    "    ```\n",
    "    where `dataset_id` is a string variable specifying a dataset ID.\n",
    "\n",
    "3. If a subset of tables of the Excel spreadsheet shall be uploaded, set the **`tables`** parameter:\n",
    "   ```python\n",
    "   toolbox.download(tables=list_of_tables)\n",
    "   ```\n",
    "    \n",
    "    where `list_of_tables` is a list of strings containing the table ID's of a subset of the tables that are contained in the Excel spreadsheet. If only a single table is requested for upload, `list_of_tables` can be a single string specifying a table ID.\n",
    "    \n",
    "**Note: After uploading metadata from the specified Excel workspace file, the file and its parent folder are automatically deleted on purpose. This is to enforce that before uploading a download takes place with the `download.ipynb` file.**"
   ]
  },
  {
   "cell_type": "code",
   "execution_count": 2,
   "metadata": {},
   "outputs": [
    {
     "name": "stdout",
     "output_type": "stream",
     "text": [
      "\n",
      "# Upload\n",
      "\n",
      "\tTable 'table1'\n",
      "\t\tget BigQuery table instance\n",
      "\t\tget DataCatalog table instance\n",
      "\t\tget all tags\n",
      "\t\tcreate table tag dictionary\n",
      "\t\tupload table tag\n",
      "\t\tupload BigQuery table description\n",
      "\t\tupload BigQuery and DataCatalog field information\n"
     ]
    }
   ],
   "source": [
    "toolbox.upload()"
   ]
  },
  {
   "cell_type": "code",
   "execution_count": null,
   "metadata": {},
   "outputs": [],
   "source": []
  }
 ],
 "metadata": {
  "kernelspec": {
   "display_name": "Python 3",
   "language": "python",
   "name": "python3"
  },
  "language_info": {
   "codemirror_mode": {
    "name": "ipython",
    "version": 3
   },
   "file_extension": ".py",
   "mimetype": "text/x-python",
   "name": "python",
   "nbconvert_exporter": "python",
   "pygments_lexer": "ipython3",
   "version": "3.6.8"
  }
 },
 "nbformat": 4,
 "nbformat_minor": 2
}
