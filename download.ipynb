{
 "cells": [
  {
   "cell_type": "markdown",
   "metadata": {},
   "source": [
    "# Script for downloading metadata from Google BigQuery and Data Catalog\n",
    "\n",
    "1. BigQuery Table and field descriptions as well as Data Catalog table and field tags are stored in an Excel workspace file with the name of the _parent_ dataset, by default in a folder with the name of the _parent_ dataset in the working directory of this repository\n",
    "2. After loading the **bqdc** module, the connection to BigQuery and Data Catalog is established by calling `bqdc.toolbox()`.\n",
    "3. The folder of this script should contain the **'bqdc.py'** file and the **'.json'** File that contains the App Engine default **service account key**.\n",
    "4. The **first sheet** of the workspace '.xlsx' file has the name **'metadata_of_tables'** and contains information of the entire table such as table description, which is attached to the table via the table tag template\n",
    "5. The **field metadata** of the downloaded tables is stored in **separate sheets** of the workspace '.xlsx' file where the name of the sheet is the name of the table\n",
    "## Initialisation"
   ]
  },
  {
   "cell_type": "code",
   "execution_count": null,
   "metadata": {
    "collapsed": true
   },
   "outputs": [],
   "source": [
    "import bqdc\n",
    "\n",
    "#specify the GCP project by setting the corresponding project ID\n",
    "PROJECT_ID = \n",
    "\n",
    "# establish connection to both BigQuery and Data Catalog clients\n",
    "toolbox = bqdc.toolbox(PROJECT_ID = PROJECT_ID, do_print_log=True)\n",
    "\n",
    "# set the IDs for the table tag and field tag template and establish references to both tag templates\n",
    "table_tag_template_id = \n",
    "field_tag_template_id = \n",
    "\n",
    "toolbox.init_tag_templates(table_tag_template_str = table_tag_template_id, field_tag_template_str = field_tag_template_id)\n",
    "\n",
    "# specify a dataset by setting the corresponding dataset ID\n",
    "dataset_id = \n",
    "\n",
    "toolbox.set_dataset(dataset_id)"
   ]
  },
  {
   "cell_type": "markdown",
   "metadata": {},
   "source": [
    "## Downloading metadata with the download method\n",
    "\n",
    "1. If no arguments are passed metadata of all tables of the specified dataset are downloaded\n",
    "2. If a subset of tables is requested for download, set the **`tables`** parameter:\n",
    "    ```python\n",
    "    toolbox.download(tables=list_of_tables)\n",
    "    ```\n",
    "    where `list_of_tables` is a list of strings containing the table ID's of the tables to be downloaded. If only a single table is requested, `list_of_tables` can be a single string specifying a table ID.\n",
    "3. If tables are requested from **another dataset**, set the **`DS_ID`** parameter:\n",
    "    ```python\n",
    "    toolbox.download(DS_ID=dataset_id)\n",
    "    ```\n",
    "    \n",
    "    where `dataset_id` is a string variable specifying a dataset ID."
   ]
  },
  {
   "cell_type": "code",
   "execution_count": null,
   "metadata": {
    "collapsed": true
   },
   "outputs": [],
   "source": [
    "toolbox.download()"
   ]
  },
  {
   "cell_type": "markdown",
   "metadata": {
    "collapsed": true
   },
   "source": [
    "# The Excel workspace file can then be changed to add/remove/update metadata and then being uploaded with the `upload.ipynb` file"
   ]
  }
 ],
 "metadata": {
  "kernelspec": {
   "display_name": "Python 3",
   "language": "python",
   "name": "python3"
  },
  "language_info": {
   "codemirror_mode": {
    "name": "ipython",
    "version": 3
   },
   "file_extension": ".py",
   "mimetype": "text/x-python",
   "name": "python",
   "nbconvert_exporter": "python",
   "pygments_lexer": "ipython3",
   "version": "3.6.1"
  }
 },
 "nbformat": 4,
 "nbformat_minor": 2
}
